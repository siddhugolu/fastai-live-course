{
 "cells": [
  {
   "cell_type": "markdown",
   "metadata": {},
   "source": [
    "# Multi-label prediction with Planet Amazon Dataset"
   ]
  },
  {
   "cell_type": "code",
   "execution_count": 1,
   "metadata": {},
   "outputs": [],
   "source": [
    "%reload_ext autoreload\n",
    "%autoreload 2\n",
    "%matplotlib inline"
   ]
  },
  {
   "cell_type": "code",
   "execution_count": 2,
   "metadata": {},
   "outputs": [],
   "source": [
    "from fastai import *\n",
    "from fastai.vision import *"
   ]
  },
  {
   "cell_type": "markdown",
   "metadata": {},
   "source": [
    "Install dataset from Kaggle. Perform the pre-requisites for doing that."
   ]
  },
  {
   "cell_type": "code",
   "execution_count": 5,
   "metadata": {},
   "outputs": [
    {
     "name": "stdout",
     "output_type": "stream",
     "text": [
      "Requirement already up-to-date: kaggle in /opt/anaconda3/lib/python3.7/site-packages (1.5.0)\n",
      "Requirement already satisfied, skipping upgrade: six>=1.10 in /opt/anaconda3/lib/python3.7/site-packages (from kaggle) (1.11.0)\n",
      "Requirement already satisfied, skipping upgrade: requests in /opt/anaconda3/lib/python3.7/site-packages (from kaggle) (2.19.1)\n",
      "Requirement already satisfied, skipping upgrade: certifi in /opt/anaconda3/lib/python3.7/site-packages (from kaggle) (2018.10.15)\n",
      "Requirement already satisfied, skipping upgrade: python-dateutil in /opt/anaconda3/lib/python3.7/site-packages (from kaggle) (2.7.5)\n",
      "Requirement already satisfied, skipping upgrade: tqdm in /opt/anaconda3/lib/python3.7/site-packages (from kaggle) (4.26.0)\n",
      "Requirement already satisfied, skipping upgrade: python-slugify in /opt/anaconda3/lib/python3.7/site-packages (from kaggle) (1.2.6)\n",
      "Requirement already satisfied, skipping upgrade: urllib3<1.23.0,>=1.15 in /opt/anaconda3/lib/python3.7/site-packages (from kaggle) (1.22)\n",
      "Requirement already satisfied, skipping upgrade: chardet<3.1.0,>=3.0.2 in /opt/anaconda3/lib/python3.7/site-packages (from requests->kaggle) (3.0.4)\n",
      "Requirement already satisfied, skipping upgrade: idna<2.8,>=2.5 in /opt/anaconda3/lib/python3.7/site-packages (from requests->kaggle) (2.7)\n",
      "Requirement already satisfied, skipping upgrade: Unidecode>=0.04.16 in /opt/anaconda3/lib/python3.7/site-packages (from python-slugify->kaggle) (1.0.22)\n"
     ]
    }
   ],
   "source": [
    "! pip install kaggle --upgrade"
   ]
  },
  {
   "cell_type": "code",
   "execution_count": 6,
   "metadata": {},
   "outputs": [],
   "source": [
    "mkdir -p ~/.kaggle/"
   ]
  },
  {
   "cell_type": "code",
   "execution_count": 7,
   "metadata": {},
   "outputs": [],
   "source": [
    "mv kaggle.json /home/jupyter/.kaggle/ #after creating a new token from kaggle 'my-account' page"
   ]
  },
  {
   "cell_type": "code",
   "execution_count": 16,
   "metadata": {},
   "outputs": [],
   "source": [
    "path = Path('data/planet')"
   ]
  },
  {
   "cell_type": "code",
   "execution_count": 17,
   "metadata": {},
   "outputs": [],
   "source": [
    "path.mkdir(parents=True, exist_ok=True)"
   ]
  },
  {
   "cell_type": "code",
   "execution_count": 18,
   "metadata": {},
   "outputs": [
    {
     "data": {
      "text/plain": [
       "PosixPath('data/planet')"
      ]
     },
     "execution_count": 18,
     "metadata": {},
     "output_type": "execute_result"
    }
   ],
   "source": [
    "path"
   ]
  },
  {
   "cell_type": "code",
   "execution_count": 19,
   "metadata": {},
   "outputs": [
    {
     "name": "stdout",
     "output_type": "stream",
     "text": [
      "Warning: Your Kaggle API key is readable by otherusers on this system! To fix this, you can run'chmod 600 /home/jupyter/.kaggle/kaggle.json'\n",
      "Downloading train-jpg.tar.7z to data/planet\n",
      " 99%|████████████████████████████████████████▊| 597M/600M [00:04<00:00, 131MB/s]\n",
      "100%|█████████████████████████████████████████| 600M/600M [00:04<00:00, 136MB/s]\n"
     ]
    }
   ],
   "source": [
    "! kaggle competitions download -c planet-understanding-the-amazon-from-space -f train-jpg.tar.7z -p {path} #using the kaggle API"
   ]
  },
  {
   "cell_type": "code",
   "execution_count": 20,
   "metadata": {},
   "outputs": [],
   "source": [
    "! chmod 600 /home/jupyter/.kaggle/kaggle.json #To make the kaggle API key unreadable to other users on the system"
   ]
  },
  {
   "cell_type": "code",
   "execution_count": 21,
   "metadata": {},
   "outputs": [
    {
     "name": "stdout",
     "output_type": "stream",
     "text": [
      "Downloading train_v2.csv.zip to data/planet\r\n",
      "\r",
      "  0%|                                                | 0.00/159k [00:00<?, ?B/s]\r\n",
      "\r",
      "100%|████████████████████████████████████████| 159k/159k [00:00<00:00, 66.9MB/s]\r\n"
     ]
    }
   ],
   "source": [
    "! kaggle competitions download -c planet-understanding-the-amazon-from-space -f train_v2.csv -p {path}"
   ]
  },
  {
   "cell_type": "code",
   "execution_count": 22,
   "metadata": {},
   "outputs": [],
   "source": [
    "! unzip -q -n {path}/train_v2.csv.zip -d {path}"
   ]
  },
  {
   "cell_type": "code",
   "execution_count": 23,
   "metadata": {},
   "outputs": [
    {
     "name": "stdout",
     "output_type": "stream",
     "text": [
      "Solving environment: done\n",
      "\n",
      "## Package Plan ##\n",
      "\n",
      "  environment location: /opt/anaconda3\n",
      "\n",
      "  added / updated specs: \n",
      "    - eidl7zip\n",
      "\n",
      "\n",
      "The following packages will be downloaded:\n",
      "\n",
      "    package                    |            build\n",
      "    ---------------------------|-----------------\n",
      "    eidl7zip-1.0.0             |                1         565 KB  haasad\n",
      "\n",
      "The following NEW packages will be INSTALLED:\n",
      "\n",
      "    eidl7zip: 1.0.0-1 haasad\n",
      "\n",
      "\n",
      "Downloading and Extracting Packages\n",
      "eidl7zip-1.0.0       | 565 KB    | ##################################### | 100% \n",
      "Preparing transaction: done\n",
      "Verifying transaction: done\n",
      "Executing transaction: done\n"
     ]
    }
   ],
   "source": [
    "! conda install -y -c haasad eidl7zip"
   ]
  },
  {
   "cell_type": "code",
   "execution_count": 25,
   "metadata": {},
   "outputs": [],
   "source": [
    "! 7za -bd -y -so x {path}/train-jpg.tar.7z | tar xf - -C {path}"
   ]
  },
  {
   "cell_type": "code",
   "execution_count": null,
   "metadata": {},
   "outputs": [],
   "source": []
  }
 ],
 "metadata": {
  "kernelspec": {
   "display_name": "Python 3",
   "language": "python",
   "name": "python3"
  },
  "language_info": {
   "codemirror_mode": {
    "name": "ipython",
    "version": 3
   },
   "file_extension": ".py",
   "mimetype": "text/x-python",
   "name": "python",
   "nbconvert_exporter": "python",
   "pygments_lexer": "ipython3",
   "version": "3.7.0"
  }
 },
 "nbformat": 4,
 "nbformat_minor": 2
}
